{
 "cells": [
  {
   "cell_type": "code",
   "execution_count": null,
   "id": "caeb702a",
   "metadata": {},
   "outputs": [],
   "source": [
    "import cv2\n",
    "import numpy as np\n",
    "from pathlib import Path\n",
    "import matplotlib.pyplot as plt\n",
    "from scipy.signal import savgol_filter\n",
    "from scipy import stats\n",
    "from scipy.interpolate import interp1d\n",
    "from Image_class import ProcessedImage\n",
    "\n",
    "class BG_Calibrater:      #medianフィルター未実装\n",
    "    '''\n",
    "    input: 2-D array(original AFM image)\n",
    "    output: ProcessedImage class which has calibrated_image\n",
    "    -------------------work flow-------------------\n",
    "    decide the threshold for outlier(low:depression of mica, high:CNF)\n",
    "    バックグラウンドのみ抽出\n",
    "    取り除いた外れ値の部分を線形補完\n",
    "    savgolフィルターによる近似曲線抽出\n",
    "    元データ-近似曲線でベースラインの補正\n",
    "    必要であればメディアンフィルターの適用\n",
    "    補正後の画像を属性に持つProcessedImageクラスのインスタンスを出力する\n",
    "\n",
    "    -------------------Parameter-------------------\n",
    "    savgol_window\n",
    "    savgol_polyorder\n",
    "    apply_median\n",
    "\n",
    "    '''\n",
    "    def __init__(self, savgol_window=31, savgol_polyorder=2, apply_median=True):\n",
    "        self.savgol_window = savgol_window\n",
    "        self.savgol_polyorder = savgol_polyorder\n",
    "        self.apply_median = apply_median\n",
    "\n",
    "    def __call__(self, original_image):\n",
    "        '''\n",
    "        original_image is 2D array \n",
    "        '''\n",
    "        output_instance = ProcessedImage(original_image)\n",
    "        \n",
    "        thresholds_low, thresholds_high = self._get_thresholds(original_image)\n",
    "        #以下のfilterは、ただ中間結果を保持しているだけなので、改善できる気がする\n",
    "        #thresholds, filterはsplineのための中間結果だし、splineはsmoothingのための中間結果。\n",
    "        '''\n",
    "        三層構造に改善できそう？\n",
    "        smoothing:\n",
    "            original - background_smoothed\n",
    "            background_smoothed:\n",
    "                \n",
    "                        \n",
    "\n",
    "        '''\n",
    "        background_filter = self._get_background_filter(original_image, thresholds_low, thresholds_high)\n",
    "        background_splined = self._get_splined_background(original_image, background_filter)\n",
    "        background_smoothed = self._savgol_smoothing(background_splined, self.savgol_window, self.savgol_polyorder)\n",
    "        calibrated_image = original_image - background_smoothed\n",
    "        if self.apply_median == True:\n",
    "            calibrated_image = cv2.medianBlur(calibrated_image.astype(np.float32), ksize=3)\n",
    "            \n",
    "        output_instance.calibrated_image = calibrated_image\n",
    "        return output_instance\n",
    "\n",
    "\n",
    "    @staticmethod\n",
    "    def _get_thresholds(image):      #各行の外れ値の閾値を取得（2次元array）\n",
    "        weight_q1 = stats.scoreatpercentile(image, 25, axis=1).reshape((image.shape[0], 1))\n",
    "        weight_q3 = stats.scoreatpercentile(image, 75, axis=1).reshape((image.shape[0], 1))\n",
    "        weight_iqr = weight_q3 - weight_q1\n",
    "        thresholds_low = weight_q1 - (weight_iqr) * 1.5\n",
    "        thresholds_high =  weight_q3 + (weight_iqr)* 0          #*0であってる？\n",
    "        return thresholds_low, thresholds_high\n",
    "    \n",
    "    @staticmethod\n",
    "    def _get_background_filter(image, thresholds_low, thresholds_high):\n",
    "        '''\n",
    "         get the filter to remove the outlier pixel(CNF and depression) from AFM image\n",
    "        '''\n",
    "        background_filter = (image > thresholds_low) & (image < thresholds_high)\n",
    "        background_filter[:,0] = True\n",
    "        background_filter[:,-1] = True    #画像の端をTrueにしておかないと次の補完でエラーになる\n",
    "        return background_filter\n",
    "\n",
    "    @staticmethod\n",
    "    def _get_splined_background(original_image, background_filter):   #欠損しているバックグラウンドの補完\n",
    "        splined_bg = np.empty(original_image.shape)\n",
    "        n_row, n_column = original_image.shape\n",
    "        for row in range(n_row):\n",
    "            filter_row = background_filter[row]\n",
    "            background_x, *_ = np.where(filter_row)\n",
    "            background_height = original_image[row][filter_row]\n",
    "            f = interp1d(background_x, background_height)\n",
    "            x = np.arange(n_column)  #画像の横一列のピクセル番号（0～1023）\n",
    "            splined_bg[row] = f(x)\n",
    "        return  splined_bg  \n",
    "\n",
    "    @staticmethod\n",
    "    def _savgol_smoothing(background_splined, window_length, polyorder):\n",
    "        def savgol(row, wl=window_length, po=polyorder):\n",
    "            return savgol_filter(row, wl, po)\n",
    "        bg_smoothed = np.apply_along_axis(savgol, 1, background_splined)\n",
    "        return bg_smoothed\n",
    "        \n",
    "        "
   ]
  },
  {
   "cell_type": "code",
   "execution_count": 1,
   "id": "95b7d710",
   "metadata": {},
   "outputs": [],
   "source": [
    "import cv2\n",
    "import numpy as np\n",
    "import matplotlib.pyplot as plt\n",
    "from skimage.feature import canny\n",
    "from skimage.filters import threshold_local\n",
    "from skimage.morphology import  binary_opening, binary_closing, binary_erosion, binary_dilation\n",
    "from skimage.transform import probabilistic_hough_line\n",
    "\n",
    "class Segmentater:    #クッソ遅い（どこが遅いかは調べてないが、多分ラベリングとハフ変換）。本当にハフ変換必要なのか...\n",
    "    def __init__(self,  area_min=200, low_threshold, global_threshold=0.3, wsize_localbin=17, H_length=12, H_Sratio=0.3):\n",
    "#         self.image = calibrated_image\n",
    "        self.global_threshold = global_threshold\n",
    "        self.wsize_localbin = wsize_localbin\n",
    "        self.area_min = area_min\n",
    "        self.low_threshold = low_threshold\n",
    "        self.H_length = H_length\n",
    "        self.H_Sratio = H_Sratio\n",
    "        \n",
    "        self.binary_image = None\n",
    "        self.no_linear = None\n",
    "\n",
    "    def __call__(self, calibrated_image):\n",
    "        '''\n",
    "        -------------input-------------------\n",
    "        calibrated_image:\n",
    "            BG_calibrater で出力したProcessedImageクラス\n",
    "        -------------output-------------------\n",
    "        \n",
    "        -------------processing flow-----------------\n",
    "        1. binary_global\n",
    "        2. binary_local\n",
    "        3. 1 & 2     ここまでひとまとめにで良さそう（binaryzation）\n",
    "        4. remove small component     超ぐちゃぐちゃだけど、もっとシンプルにならないか？後で最大高さ1.5でふるいにかけるし\n",
    "            4.1 smoothing by median filter  ぶっちゃけこれ必要か？とりあえず無視\n",
    "            4.2 labeling\n",
    "            4.3 remove small area under area_min これ必要か？4.5のやつをここでやれば良い気もする\n",
    "            4.4 hough transformation　計算量多いので、省略できないか？\n",
    "            4.5 erosion and remove small components under area_min2\n",
    "            4.6 dilation\n",
    "            4.7 closing\n",
    "\n",
    "        '''\n",
    "        binary_image = self._binaryzation(calibrated_image.calibrated_image,\n",
    "                                          self.global_threshold,\n",
    "                                          self.wsize_localbin)\n",
    "        no_small_binary_image = self._remove_connecting_fragments(binary_image,\n",
    "                                                                  self.area_min)\n",
    "        no_small_binary_image = self._remove_nonlinear_objects(no_small_binary_image,\n",
    "                                                               self.H_length,\n",
    "                                                               self.H_Sratio)\n",
    "#         no_small_binary_image = self._remove_small(binary_image, self.area_min)\n",
    "        calibrated_image.binarized_image = no_small_binary_image\n",
    "        return calibrated_image\n",
    "\n",
    "    @staticmethod\n",
    "    def _binaryzation(image, global_threshold, wsize_localbin):\n",
    "        binary_global = image > global_threshold\n",
    "        local_threshold = threshold_local(image, wsize_localbin)\n",
    "        binary_local = image > local_threshold\n",
    "        binary_final = binary_global & binary_local    #データ型はbooleanのままか、int8に直すか未定\n",
    "        return binary_final\n",
    "\n",
    "    @staticmethod\n",
    "    #so heavy process\n",
    "    def _remove_small(binary_image, area_min):\n",
    "        out_binary_image = binary_image.copy()\n",
    "        n_labels, label_image, stats, centers = cv2.connectedComponentsWithStats(np.uint8(binary_image), 8)\n",
    "        for i in range(n_labels-1):\n",
    "            *_, area = stats[i]\n",
    "            if area <= area_min:\n",
    "                out_binary_image[label_image==i] = 0    #入力のbinary_image自体を書き換えて出力\n",
    "        return out_binary_image\n",
    "    \n",
    "    @staticmethod\n",
    "    #オブジェクトが多すぎて、ラベルが0～255に収まりきらないかもしれん\n",
    "    def _remove_connecting_fragments(binary_image, area_min):\n",
    "        out_binary_image = binary_image.copy()\n",
    "        out_binary_image = binary_erosion(out_binary_image)\n",
    "        n_labels, label_image, stats, centers = cv2.connectedComponentsWithStats(np.uint8(binary_image), 8)\n",
    "        for i in range(n_labels-1):\n",
    "            *_, area = stats[i]\n",
    "            if area <= area_min:\n",
    "                out_binary_image[label_image==i] = 0    #入力のbinary_image自体を書き換えて出力\n",
    "        out_binary_image = binary_dilation(out_binary_image)\n",
    "        return out_binary_image\n",
    "            \n",
    "    @staticmethod\n",
    "    def _remove_nonlinear_objects(binary_image, H_length, H_Sratio, linegap=1):\n",
    "        out_binary_image = binary_image.copy()\n",
    "        n_labels, label_image, stats, centers = cv2.connectedComponentsWithStats(np.uint8(out_binary_image), 8)\n",
    "        for i in range(n_labels-1):\n",
    "            left, top, width, height, area = stats[i]\n",
    "            target = out_binary_image[top:top+height, left:left+width]      #インデックスの指定あってるか自信ない\n",
    "            target_edge = canny(target, sigma=0,\n",
    "                                low_threshold=0,\n",
    "                                high_threshold=1)\n",
    "            hough_lines = probabilistic_hough_line(target_edge,\n",
    "                                                   line_length=H_length,\n",
    "                                                   line_gap=linegap)\n",
    "            line_lengths = [np.linalg.norm(np.array(start) - np.array(end)) for (start, end) in hough_lines]   #あってるか自信ない\n",
    "            total_length = sum(line_lengths)\n",
    "            S_ratio = total_length / np.sum(target_edge)\n",
    "            \n",
    "            if S_ratio < H_Sratio and np.sum(target) < 500:  #keep big object larger than 500\n",
    "                out_binary_image[label_image==i] = 0\n",
    "            \n",
    "            return out_binary_image\n",
    "    \n",
    "    @staticmethod\n",
    "    def remove_low_component(height_image, binary_image):\n",
    "        n_labels, label_image, stats, centers = cv2.connectedComponentsWithStats(np.uint8(out_binary_image), 8)\n",
    "        pass"
   ]
  },
  {
   "cell_type": "code",
   "execution_count": 2,
   "id": "714b1cd3",
   "metadata": {},
   "outputs": [],
   "source": [
    "from skimage.morphology import skeletonize,thin\n",
    "import imptools\n",
    "\n",
    "class Skeltonizer:\n",
    "    def __init__(self, bp_height=5, branch_length=8, image_size=1024):\n",
    "        self.bp_height = bp_height\n",
    "        self.branch_length = branch_length\n",
    "        self.image_size = image_size\n",
    "        #インスタンス変数のメリットは、複数回利用するような変数を保持できる事？だとしたら今のインスタンス変数はあまり意味がない\n",
    "        #内部処理用の変数として、coor_low_bps, coor_close_eps, branches_imageなどは保存していた方が、\n",
    "        #説明用のグラフ作ったりバグ修正に便利かも\n",
    "        self._coor_low_bps = None\n",
    "        self._coor_close_eps = None\n",
    "        self._branches_image = None\n",
    "        \n",
    "        \n",
    "    def __call__(self, image):\n",
    "        '''\n",
    "        -------------input-------------------\n",
    "        image:\n",
    "            BG_calibrater -> Segmentater で出力したProcessedImageインスタンス\n",
    "        -------------output-------------------\n",
    "        入力のProcessedImageインスタンスの属性に細線化画像（枝除去済み）を追加する\n",
    "        \n",
    "        -------------processing flow-----------------\n",
    "        extract initial center line (with branch)\n",
    "        remove branch:\n",
    "            init_skeltone - branch_image\n",
    "            pick up low branch point:\n",
    "            \n",
    "            prune short branch derive from low branch point:\n",
    "        '''\n",
    "        \n",
    "        init_skeltone_image = thin(image.binarized_image)\n",
    "        nobranch_skeltone_image = self.prune_branches(image.calibrated_image, init_skeltone_image)\n",
    "        image.skeltone_image = nobranch_skeltone_image\n",
    "        \n",
    "        return image\n",
    "    \n",
    "    def prune_branches(self, calibrated_image, init_skeltone_image):\n",
    "        branches_image = self.calc_branches_image(calibrated_image, init_skeltone_image)        \n",
    "        return init_skeltone_image - branches_image\n",
    "        \n",
    "        \n",
    "    def calc_branches_image(self, calibrated_image, init_skeltone_image):\n",
    "#         coor_low_bps = np.where(imptools.branchedPoints(init_skeltone_image))\n",
    "        branches_image = np.zeros((self.image_size, self.image_size), dtype=np.uint8)\n",
    "        coor_low_bps = self.get_low_bp_coor(calibrated_image,\n",
    "                                            init_skeltone_image,\n",
    "                                            self.bp_height)\n",
    "        coor_close_eps = self.get_close_eps(init_skeltone_image, #next process (track_branches) may be heavy \n",
    "                                            coor_low_bps,\n",
    "                                            self.branch_length)\n",
    "        coor_branch = self.track_branches(init_skeltone_image,\n",
    "                                          coor_close_eps,\n",
    "                                          coor_low_bps,\n",
    "                                          self.branch_length)\n",
    "#         print(coor_branch)\n",
    "        branches_image[coor_branch] = 1\n",
    "        return branches_image\n",
    "    \n",
    "    @staticmethod\n",
    "    def get_low_bp_coor(calibrated_image, init_skeltone_image, bp_height):\n",
    "        all_bps = imptools.branchedPoints(init_skeltone_image)\n",
    "        return np.where(all_bps & (calibrated_image < bp_height))\n",
    "    \n",
    "    \n",
    "    def get_close_eps(self, init_skeltone_image, coor_low_bps, branch_length): #eps eny close than branch_length\n",
    "        close_eps = np.zeros((self.image_size, self.image_size), dtype=np.uint8)\n",
    "        \n",
    "        all_eps_coorx, all_eps_coory = np.where(imptools.endPoints(init_skeltone_image))\n",
    "        _low_bps_image = np.zeros((self.image_size, self.image_size), dtype=np.uint8)\n",
    "        _low_bps_image[coor_low_bps] = 1\n",
    "        for x, y in zip(all_eps_coorx, all_eps_coory):\n",
    "            window = _low_bps_image[x-branch_length:x+branch_length,\n",
    "                                    y-branch_length:y+branch_length]\n",
    "            if window.any():  #window中に一つでもlow_bpが入っているならTrue\n",
    "                close_eps[x, y] = 1\n",
    "        \n",
    "        coor_close_eps = np.where(close_eps)\n",
    "        return coor_close_eps\n",
    "        \n",
    "    \n",
    "    def track_branches(self, init_skeltone_image, coor_close_ep, coor_low_bps, branch_length):\n",
    "        branches_coor_x = []\n",
    "        branches_coor_y = []\n",
    "        image_for_tracking = init_skeltone_image.copy()\n",
    "        \n",
    "        image_low_bps = np.zeros((self.image_size, self.image_size), dtype=bool)\n",
    "        image_low_bps[coor_low_bps] = True  #low_bpに目印として2を設定\n",
    "        #epからトラック開始。low_bpにぶつかったら終了\n",
    "        starts_x, starts_y = coor_close_ep\n",
    "        for start_x, start_y in zip(starts_x, starts_y):\n",
    "            #tracking_area中の座標からimage_for_tracking中の座標に変換するため、x,yを最後に足すの忘れずに！\n",
    "            tracking_area = image_for_tracking[start_x - branch_length : start_x + branch_length, \n",
    "                                               start_y - branch_length : start_y + branch_length]\n",
    "            \n",
    "            image_for_bp_detection = image_low_bps[start_x - branch_length : start_x + branch_length, \n",
    "                                                   start_y - branch_length : start_y + branch_length]\n",
    "            \n",
    "            x, y = branch_length, branch_length  #トラッキング開始点となるtracking_areaの中心点の位置\n",
    "            \n",
    "            xtrack = [x+start_x-branch_length]  #各枝ごとの結果格納用(初期位置であるtracking_areaの中心は最初に追加)\n",
    "            ytrack = [y+start_y-branch_length]\n",
    "            \n",
    "            for i in range(branch_length):\n",
    "                tracking_area[x,y] = 0 #現在の注目画素の値を0に更新\n",
    "                #移動方向の探索\n",
    "                window = tracking_area[x-1:x+2,y-1:y+2]\n",
    "                if (window == 0).all():   #windowsの中身が全て0(つまり別のepにたどり着いた)なら停止\n",
    "                    break\n",
    "                elif image_for_bp_detection[x-1:x+2,y-1:y+2].any():  #low_branchの手前になったら消去\n",
    "                    break\n",
    "                direction = np.where(window != 0)\n",
    "                direction = [a-1 for a in direction]\n",
    "                x += int(direction[0]); y += int(direction[1])\n",
    "                xtrack.append(x+start_x-branch_length)\n",
    "                ytrack.append(y+start_y-branch_length)\n",
    "                 \n",
    "            branches_coor_x += xtrack\n",
    "            branches_coor_y += ytrack\n",
    "            \n",
    "        branches_coor_x = np.asarray(branches_coor_x); branches_coor_y = np.asarray(branches_coor_y)\n",
    "        #各tracking_areaのままの座標なので、skeltone_image用の座標に変換する\n",
    "#         print(branches_coor_x)\n",
    "#         branches_coor_x += starts_x.reshape(len(branches_coor_x), 1)\n",
    "#         branches_coor_y += starts_y.reshape(len(branches_coor_y), 1)\n",
    "        return branches_coor_x, branches_coor_y"
   ]
  },
  {
   "cell_type": "code",
   "execution_count": 3,
   "id": "93288429",
   "metadata": {},
   "outputs": [],
   "source": [
    "%matplotlib inline"
   ]
  },
  {
   "cell_type": "code",
   "execution_count": 4,
   "id": "c3328a7b",
   "metadata": {
    "scrolled": true
   },
   "outputs": [
    {
     "name": "stdout",
     "output_type": "stream",
     "text": [
      "(1024, 1024)\n",
      "(1841,)\n"
     ]
    },
    {
     "data": {
      "image/png": "[encoded data removed]",
      "text/plain": [
       "<Figure size 432x432 with 1 Axes>"
      ]
     },
     "metadata": {
      "needs_background": "light"
     },
     "output_type": "display_data"
    },
    {
     "name": "stdout",
     "output_type": "stream",
     "text": [
      "(1024, 1024)\n",
      "(3228,)\n"
     ]
    },
    {
     "data": {
      "image/png": "[encoded data removed]",
      "text/plain": [
       "<Figure size 432x432 with 1 Axes>"
      ]
     },
     "metadata": {
      "needs_background": "light"
     },
     "output_type": "display_data"
    },
    {
     "name": "stdout",
     "output_type": "stream",
     "text": [
      "(1024, 1024)\n",
      "(2678,)\n"
     ]
    },
    {
     "data": {
      "image/png": "[encoded data removed]",
      "text/plain": [
       "<Figure size 432x432 with 1 Axes>"
      ]
     },
     "metadata": {
      "needs_background": "light"
     },
     "output_type": "display_data"
    },
    {
     "name": "stdout",
     "output_type": "stream",
     "text": [
      "(1024, 1024)\n",
      "(1049,)\n"
     ]
    },
    {
     "data": {
      "image/png": "[encoded data removed]",
      "text/plain": [
       "<Figure size 432x432 with 1 Axes>"
      ]
     },
     "metadata": {
      "needs_background": "light"
     },
     "output_type": "display_data"
    },
    {
     "name": "stdout",
     "output_type": "stream",
     "text": [
      "(1024, 1024)\n",
      "(3201,)\n"
     ]
    },
    {
     "data": {
      "image/png": "[encoded data removed]",
      "text/plain": [
       "<Figure size 432x432 with 1 Axes>"
      ]
     },
     "metadata": {
      "needs_background": "light"
     },
     "output_type": "display_data"
    },
    {
     "name": "stdout",
     "output_type": "stream",
     "text": [
      "(1024, 1024)\n",
      "(1638,)\n"
     ]
    },
    {
     "data": {
      "image/png": "[encoded data removed]",
      "text/plain": [
       "<Figure size 432x432 with 1 Axes>"
      ]
     },
     "metadata": {
      "needs_background": "light"
     },
     "output_type": "display_data"
    },
    {
     "name": "stdout",
     "output_type": "stream",
     "text": [
      "(1024, 1024)\n",
      "(2260,)\n"
     ]
    },
    {
     "data": {
      "image/png": "[encoded data removed]",
      "text/plain": [
       "<Figure size 432x432 with 1 Axes>"
      ]
     },
     "metadata": {
      "needs_background": "light"
     },
     "output_type": "display_data"
    },
    {
     "name": "stdout",
     "output_type": "stream",
     "text": [
      "(1024, 1024)\n",
      "(2010,)\n"
     ]
    },
    {
     "data": {
      "image/png": "[encoded data removed]",
      "text/plain": [
       "<Figure size 432x432 with 1 Axes>"
      ]
     },
     "metadata": {
      "needs_background": "light"
     },
     "output_type": "display_data"
    },
    {
     "name": "stdout",
     "output_type": "stream",
     "text": [
      "(1024, 1024)\n",
      "(1542,)\n"
     ]
    },
    {
     "data": {
      "image/png": "[encoded data removed]",
      "text/plain": [
       "<Figure size 432x432 with 1 Axes>"
      ]
     },
     "metadata": {
      "needs_background": "light"
     },
     "output_type": "display_data"
    },
    {
     "name": "stdout",
     "output_type": "stream",
     "text": [
      "(1024, 1024)\n",
      "(5075,)\n"
     ]
    },
    {
     "data": {
      "image/png": "[encoded data removed]",
      "text/plain": [
       "<Figure size 432x432 with 1 Axes>"
      ]
     },
     "metadata": {
      "needs_background": "light"
     },
     "output_type": "display_data"
    },
    {
     "name": "stdout",
     "output_type": "stream",
     "text": [
      "(1024, 1024)\n",
      "(12143,)\n"
     ]
    },
    {
     "data": {
      "image/png": "[encoded data removed]",
      "text/plain": [
       "<Figure size 432x432 with 1 Axes>"
      ]
     },
     "metadata": {
      "needs_background": "light"
     },
     "output_type": "display_data"
    }
   ],
   "source": [
    "from pathlib import Path\n",
    "# from BG_Calibrater import BG_Calibrater\n",
    "# from Image_class import Image_class\n",
    "\n",
    "filepath = Path(\"../data/4pass_data_ver.2\") \n",
    "flist = list(filepath.glob('*.txt'))\n",
    "flist.sort()\n",
    "\n",
    "calibrater = BG_Calibrater()\n",
    "segmentater = Segmentater()\n",
    "skeltonizer = Skeltonizer()\n",
    "\n",
    "for file in flist:\n",
    "    AFM_image = np.loadtxt(file, skiprows=1).reshape(1024, 1024)\n",
    "    image = calibrater(AFM_image)\n",
    "    image = segmentater(image)\n",
    "    image = skeltonizer(image)\n",
    "    \n",
    "    height = image.heights_skeltone()\n",
    "    calibrated = image.calibrated_image\n",
    "    print(calibrated.shape)\n",
    "    print(height.shape)\n",
    "    \n",
    "    \n",
    "#     bps = imptools.branchedPoints(image.skeltone_image)\n",
    "#     coor_bps = np.where(bps)\n",
    "    \n",
    "    fig, ax = plt.subplots(1,1, figsize=(6,6))\n",
    "    ax.hist(height)\n",
    "#     ax.imshow(image.calibrated_image, cmap='afmhot', vmin=-0.5, vmax=4.5)\n",
    "#     ax.imshow(image.binarized_image, cmap='gray')\n",
    "#     ax.imshow(image.skeltone_image, cmap='gray')\n",
    "#     ax.scatter(coor_bps[1],coor_bps[0], color='green')\n",
    "    plt.show()"
   ]
  },
  {
   "cell_type": "code",
   "execution_count": 6,
   "id": "9fbe5abc",
   "metadata": {
    "scrolled": false
   },
   "outputs": [
    {
     "data": {
      "image/png": "[encoded data removed]",
      "text/plain": [
       "<Figure size 432x432 with 1 Axes>"
      ]
     },
     "metadata": {
      "needs_background": "light"
     },
     "output_type": "display_data"
    },
    {
     "data": {
      "image/png": "[encoded data removed]",
      "text/plain": [
       "<Figure size 432x432 with 1 Axes>"
      ]
     },
     "metadata": {
      "needs_background": "light"
     },
     "output_type": "display_data"
    },
    {
     "data": {
      "image/png": "[encoded data removed]",
      "text/plain": [
       "<Figure size 432x432 with 1 Axes>"
      ]
     },
     "metadata": {
      "needs_background": "light"
     },
     "output_type": "display_data"
    },
    {
     "data": {
      "image/png": "[encoded data removed]",
      "text/plain": [
       "<Figure size 432x432 with 1 Axes>"
      ]
     },
     "metadata": {
      "needs_background": "light"
     },
     "output_type": "display_data"
    },
    {
     "data": {
      "image/png": "[encoded data removed]",
      "text/plain": [
       "<Figure size 432x432 with 1 Axes>"
      ]
     },
     "metadata": {
      "needs_background": "light"
     },
     "output_type": "display_data"
    },
    {
     "data": {
      "image/png": "[encoded data removed]",
      "text/plain": [
       "<Figure size 432x432 with 1 Axes>"
      ]
     },
     "metadata": {
      "needs_background": "light"
     },
     "output_type": "display_data"
    },
    {
     "data": {
      "image/png": "[encoded data removed]",
      "text/plain": [
       "<Figure size 432x432 with 1 Axes>"
      ]
     },
     "metadata": {
      "needs_background": "light"
     },
     "output_type": "display_data"
    },
    {
     "data": {
      "image/png": "[encoded data removed]",
      "text/plain": [
       "<Figure size 432x432 with 1 Axes>"
      ]
     },
     "metadata": {
      "needs_background": "light"
     },
     "output_type": "display_data"
    },
    {
     "data": {
      "image/png": "[encoded data removed]",
      "text/plain": [
       "<Figure size 432x432 with 1 Axes>"
      ]
     },
     "metadata": {
      "needs_background": "light"
     },
     "output_type": "display_data"
    },
    {
     "data": {
      "image/png": "[encoded data removed]",
      "text/plain": [
       "<Figure size 432x432 with 1 Axes>"
      ]
     },
     "metadata": {
      "needs_background": "light"
     },
     "output_type": "display_data"
    },
    {
     "data": {
      "image/png": "[encoded data removed]",
      "text/plain": [
       "<Figure size 432x432 with 1 Axes>"
      ]
     },
     "metadata": {
      "needs_background": "light"
     },
     "output_type": "display_data"
    }
   ],
   "source": [
    "from pathlib import Path\n",
    "\n",
    "filepath = Path(\"../data/4pass_data_ver.2\") \n",
    "flist = list(filepath.glob('*.txt'))\n",
    "flist.sort()\n",
    "\n",
    "calibrater = BG_Calibrater()\n",
    "segmentater = Segmentater()\n",
    "skeltonizer = Skeltonizer()\n",
    "\n",
    "for file in flist:\n",
    "    AFM_image = np.loadtxt(file, skiprows=1).reshape(1024, 1024)\n",
    "    image = calibrater(AFM_image)\n",
    "    image = segmentater(image)\n",
    "    image = skeltonizer(image)\n",
    "    \n",
    "    height = image.heights_skeltone()\n",
    "\n",
    "    \n",
    "    fig, ax = plt.subplots(1,1, figsize=(6,6))\n",
    "    ax.hist(height)\n",
    "    plt.show()"
   ]
  },
  {
   "cell_type": "code",
   "execution_count": null,
   "id": "3a95b397",
   "metadata": {},
   "outputs": [],
   "source": []
  }
 ],
 "metadata": {
  "kernelspec": {
   "display_name": "Python 3 (ipykernel)",
   "language": "python",
   "name": "python3"
  },
  "language_info": {
   "codemirror_mode": {
    "name": "ipython",
    "version": 3
   },
   "file_extension": ".py",
   "mimetype": "text/x-python",
   "name": "python",
   "nbconvert_exporter": "python",
   "pygments_lexer": "ipython3",
   "version": "3.9.7"
  }
 },
 "nbformat": 4,
 "nbformat_minor": 5
}
