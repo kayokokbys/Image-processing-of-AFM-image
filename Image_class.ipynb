{
 "cells": [
  {
   "cell_type": "code",
   "execution_count": null,
   "id": "efd23add",
   "metadata": {},
   "outputs": [],
   "source": [
    "import numpy as np\n",
    "import imptools as tool\n",
    "\n",
    "class ProcessedImages:\n",
    "    def __init__(self, original_AFM):\n",
    "        self.original_image = original_AFM\n",
    "        self.calibrated_image = None\n",
    "        self.skeltone_image = None\n",
    "        self.label_image = None\n",
    "        self.fiber_positions = None  \n",
    " \n",
    "#ここから下は、各画像処理クラスが完成してから\n",
    "#     def heights_skeltone(self):\n",
    "#         '''\n",
    "#         画像中の細線部の高さ全部拾ってくるメソッド\n",
    "#         '''\n",
    "#         heights_of_skeltone_lines = self.calibrated_image[self.skeltone_image]\n",
    "#         return heights_of_skeltone_lines\n",
    "    \n",
    "#     def all_length_distribution(self):\n",
    "#         '''\n",
    "#         obtaine length distribution including isolated and overlapped CNF\n",
    "#         raise error if self.label_image == None \n",
    "#         '''\n",
    "#         n_label = np.max(self.label_image)\n",
    "#         for label in range(n_label):\n",
    "#             all_length_distributions = tool.get_length\n",
    "#         return all_length_distributions\n",
    "    \n",
    "#     def isolated_length_distribution(self):\n",
    "#         '''\n",
    "#         obtaine length distribution from isolated CNF\n",
    "#         '''\n",
    "#         return isolated_length_distribution\n",
    "    \n",
    "#     def average_length_distribution(self):\n",
    "#         return average_length_distribution"
   ]
  },
  {
   "cell_type": "code",
   "execution_count": null,
   "id": "996edbc1",
   "metadata": {},
   "outputs": [],
   "source": [
    "class Fiber:\n",
    "    def __init__(self):\n",
    "        self.xposis\n",
    "        self."
   ]
  }
 ],
 "metadata": {
  "kernelspec": {
   "display_name": "Python 3",
   "language": "python",
   "name": "python3"
  },
  "language_info": {
   "codemirror_mode": {
    "name": "ipython",
    "version": 3
   },
   "file_extension": ".py",
   "mimetype": "text/x-python",
   "name": "python",
   "nbconvert_exporter": "python",
   "pygments_lexer": "ipython3",
   "version": "3.9.5"
  }
 },
 "nbformat": 4,
 "nbformat_minor": 5
}
